{
 "cells": [
  {
   "cell_type": "markdown",
   "id": "56623519",
   "metadata": {
    "papermill": {
     "duration": 0.010584,
     "end_time": "2024-10-24T03:29:03.149164",
     "exception": false,
     "start_time": "2024-10-24T03:29:03.138580",
     "status": "completed"
    },
    "tags": []
   },
   "source": [
    "# The Forest Fire Model\n",
    "\n",
    "## A rapid introduction to Mesa\n",
    "\n",
    "\n",
    "\n",
    "The [Forest Fire Model](http://en.wikipedia.org/wiki/Forest-fire_model) is one of the simplest examples of a model that exhibits self-organized criticality.\n",
    "\n",
    "\n",
    "\n",
    "Mesa is a new, Pythonic agent-based modeling framework. A big advantage of using Python is that it a great language for interactive data analysis. Unlike some other ABM frameworks, with Mesa you can write a model, run it, and analyze it all in the same environment. (You don't have to, of course. But you can).\n",
    "\n",
    "\n",
    "\n",
    "In this notebook, we'll go over a rapid-fire (pun intended, sorry) introduction to building and analyzing a model with Mesa."
   ]
  },
  {
   "cell_type": "code",
   "execution_count": 1,
   "id": "303d39c9",
   "metadata": {
    "execution": {
     "iopub.execute_input": "2024-10-24T03:29:03.171027Z",
     "iopub.status.busy": "2024-10-24T03:29:03.170493Z",
     "iopub.status.idle": "2024-10-24T03:29:26.712608Z",
     "shell.execute_reply": "2024-10-24T03:29:26.710767Z"
    },
    "papermill": {
     "duration": 23.556836,
     "end_time": "2024-10-24T03:29:26.715883",
     "exception": false,
     "start_time": "2024-10-24T03:29:03.159047",
     "status": "completed"
    },
    "tags": []
   },
   "outputs": [],
   "source": [
    "!pip install --quiet mesa"
   ]
  },
  {
   "cell_type": "markdown",
   "id": "9960bc1f",
   "metadata": {
    "papermill": {
     "duration": 0.009499,
     "end_time": "2024-10-24T03:29:26.735155",
     "exception": false,
     "start_time": "2024-10-24T03:29:26.725656",
     "status": "completed"
    },
    "tags": []
   },
   "source": [
    "First, some imports. We'll go over what all the Mesa ones mean just below."
   ]
  },
  {
   "cell_type": "code",
   "execution_count": 2,
   "id": "88c83ebf",
   "metadata": {
    "ExecuteTime": {
     "end_time": "2024-10-12T18:20:45.476090Z",
     "start_time": "2024-10-12T18:20:45.461936Z"
    },
    "execution": {
     "iopub.execute_input": "2024-10-24T03:29:26.757092Z",
     "iopub.status.busy": "2024-10-24T03:29:26.756477Z",
     "iopub.status.idle": "2024-10-24T03:29:29.487423Z",
     "shell.execute_reply": "2024-10-24T03:29:29.486036Z"
    },
    "papermill": {
     "duration": 2.745866,
     "end_time": "2024-10-24T03:29:29.490675",
     "exception": false,
     "start_time": "2024-10-24T03:29:26.744809",
     "status": "completed"
    },
    "tags": []
   },
   "outputs": [],
   "source": [
    "import numpy as np\n",
    "import pandas as pd\n",
    "from plotnine import *\n",
    "\n",
    "from mesa import Model, Agent\n",
    "from mesa.time import RandomActivation\n",
    "from mesa.space import SingleGrid\n",
    "from mesa.datacollection import DataCollector\n",
    "from mesa.batchrunner import batch_run"
   ]
  },
  {
   "cell_type": "markdown",
   "id": "7bf274f0",
   "metadata": {
    "papermill": {
     "duration": 0.009479,
     "end_time": "2024-10-24T03:29:29.512124",
     "exception": false,
     "start_time": "2024-10-24T03:29:29.502645",
     "status": "completed"
    },
    "tags": []
   },
   "source": [
    "## Building the model\n",
    "\n",
    "Most models consist of basically two things: agents, and an world for the agents to be in. The Forest Fire model has only one kind of agent: a tree. A tree can either be unburned, on fire, or already burned. The environment is a grid, where each cell can either be empty or contain a tree.\n",
    "\n",
    "First, let's define our tree agent. The agent needs to be assigned a cell on the grid, and that's about it. We could assign agents a condition to be in, but for now let's have them all start as being 'Fine'. We use `Agent` as the parent class.\n",
    "\n",
    "Next, we define the agent's **step** method. This gets called whenever the agent needs to act in the world. The tree's behavior is simple: If it is currently on fire, it spreads the fire to any neighboring trees that are not burning or have not burned down."
   ]
  },
  {
   "cell_type": "code",
   "execution_count": 3,
   "id": "24193bbf",
   "metadata": {
    "ExecuteTime": {
     "end_time": "2024-10-12T18:22:50.333734Z",
     "start_time": "2024-10-12T18:22:50.046775Z"
    },
    "execution": {
     "iopub.execute_input": "2024-10-24T03:29:29.535954Z",
     "iopub.status.busy": "2024-10-24T03:29:29.535189Z",
     "iopub.status.idle": "2024-10-24T03:29:29.546658Z",
     "shell.execute_reply": "2024-10-24T03:29:29.545075Z"
    },
    "papermill": {
     "duration": 0.027651,
     "end_time": "2024-10-24T03:29:29.549743",
     "exception": false,
     "start_time": "2024-10-24T03:29:29.522092",
     "status": "completed"
    },
    "tags": []
   },
   "outputs": [],
   "source": [
    "class TreeCell(Agent):\n",
    "    \"\"\"\n",
    "    A tree cell.\n",
    "    \n",
    "    Attributes:\n",
    "        x, y: Grid coordinates\n",
    "        condition: Can be \"Fine\", \"On Fire\", or \"Burned Out\"\n",
    "        unique_id: (x,y) tuple. \n",
    "    \n",
    "    unique_id isn't strictly necessary here, but it's good practice to give one to each\n",
    "    agent anyway.  \n",
    "    \"\"\"\n",
    "    def __init__(self, model, pos):\n",
    "        \"\"\"\n",
    "        Create a new tree.\n",
    "        Args:\n",
    "            pos: The tree's coordinates on the grid. Used as the unique_id\n",
    "        \"\"\"\n",
    "        super().__init__(pos, model)\n",
    "        self.pos = pos\n",
    "        self.unique_id = pos\n",
    "        self.condition = \"Fine\"\n",
    "        \n",
    "    def step(self):\n",
    "        '''\n",
    "        If the tree is on fire, spread it to fine trees nearby.\n",
    "        '''\n",
    "        if self.condition == \"On Fire\":\n",
    "            neighbors = self.model.grid.get_neighbors(self.pos, moore=False)\n",
    "            for neighbor in neighbors:\n",
    "                if neighbor.condition == \"Fine\":\n",
    "                    neighbor.condition = \"On Fire\"\n",
    "            self.condition = \"Burned Out\""
   ]
  },
  {
   "cell_type": "markdown",
   "id": "27e27b87",
   "metadata": {
    "papermill": {
     "duration": 0.009434,
     "end_time": "2024-10-24T03:29:29.569542",
     "exception": false,
     "start_time": "2024-10-24T03:29:29.560108",
     "status": "completed"
    },
    "tags": []
   },
   "source": [
    "Now we need to define the model object itself. The main thing the model needs is the grid, which the trees are placed on. We can choose different kinds of grids such as a von Neumann grid where any cell has 4 neighbors (left, right, top and bottom) or Moore grid where a cell has eigh neighbors.\n",
    "\n",
    "\n",
    "\n",
    "The model also needs a few parameters: how large the grid is and what the density of trees on it will be. Density will be the key parameter we'll explore below.\n",
    "\n",
    "\n",
    "\n",
    "Finally, we'll give the model a data collector. This is a Mesa object which collects and stores data on the model as it runs for later analysis.\n",
    "\n",
    "\n",
    "\n",
    "The constructor needs to do a few things. It instantiates all the model-level variables and objects; it randomly places trees on the grid, based on the density parameter; and it starts the fire by setting all the trees on one edge of the grid (x=0) as being On \"Fire\".\n",
    "\n",
    "\n",
    "\n",
    "Next, the model needs a **step** method. Like at the agent level, this method defines what happens every step of the model. We want to activate all the trees, one at a time; then we run the data collector, to count how many trees are currently on fire, burned out, or still fine. If there are no trees left on fire, we stop the model by setting its **running** property to False."
   ]
  },
  {
   "cell_type": "code",
   "execution_count": 4,
   "id": "71b57b9c",
   "metadata": {
    "execution": {
     "iopub.execute_input": "2024-10-24T03:29:29.590867Z",
     "iopub.status.busy": "2024-10-24T03:29:29.590400Z",
     "iopub.status.idle": "2024-10-24T03:29:29.605734Z",
     "shell.execute_reply": "2024-10-24T03:29:29.604331Z"
    },
    "papermill": {
     "duration": 0.029258,
     "end_time": "2024-10-24T03:29:29.608508",
     "exception": false,
     "start_time": "2024-10-24T03:29:29.579250",
     "status": "completed"
    },
    "tags": []
   },
   "outputs": [],
   "source": [
    "class ForestFire(Model):\n",
    "    \"\"\"\n",
    "    Simple Forest Fire model.\n",
    "    \"\"\"\n",
    "    def __init__(self, height, width, density):\n",
    "        \"\"\"\n",
    "        Create a new forest fire model.\n",
    "        \n",
    "        Args:\n",
    "            height, width: The size of the grid to model\n",
    "            density: What fraction of grid cells have a tree in them.\n",
    "        \"\"\"\n",
    "\n",
    "        super().__init__()\n",
    "        \n",
    "        # Initialize model parameters\n",
    "        self.height = height\n",
    "        self.width = width\n",
    "        self.density = density\n",
    "        \n",
    "        # Set up model objects\n",
    "        self.schedule = RandomActivation(self)\n",
    "        self.grid = SingleGrid(height, width, torus=False)\n",
    "        self.datacollector = DataCollector({\"Fine\": lambda m: self.count_type(m, \"Fine\"),\n",
    "                                \"On Fire\": lambda m: self.count_type(m, \"On Fire\"),\n",
    "                                \"Burned Out\": lambda m: self.count_type(m, \"Burned Out\")})\n",
    "        \n",
    "        # Place a tree in each cell with Prob = density\n",
    "        for x in range(self.width):\n",
    "            for y in range(self.height):\n",
    "                if self.random.random() < self.density:\n",
    "                    # Create a tree\n",
    "                    new_tree = TreeCell(self, (x, y))\n",
    "                    # Set all trees in the first column on fire.\n",
    "                    if x == 0:\n",
    "                        new_tree.condition = \"On Fire\"\n",
    "                    self.grid[y][x] = new_tree\n",
    "                    self.schedule.add(new_tree)\n",
    "        self.running = True\n",
    "        \n",
    "    def step(self):\n",
    "        \"\"\"\n",
    "        Advance the model by one step.\n",
    "        \"\"\"\n",
    "        self.schedule.step()\n",
    "        self.datacollector.collect(self)\n",
    "        # Halt if no more fire\n",
    "        if self.count_type(self, \"On Fire\") == 0:\n",
    "            self.running = False\n",
    "    \n",
    "    @staticmethod\n",
    "    def count_type(model, tree_condition):\n",
    "        '''\n",
    "        Helper method to count trees in a given condition in a given model.\n",
    "        '''\n",
    "        count = 0\n",
    "        for tree in model.schedule.agents:\n",
    "            if tree.condition == tree_condition:\n",
    "                count += 1\n",
    "        return count"
   ]
  },
  {
   "cell_type": "markdown",
   "id": "071a5ef0",
   "metadata": {
    "papermill": {
     "duration": 0.009174,
     "end_time": "2024-10-24T03:29:29.627266",
     "exception": false,
     "start_time": "2024-10-24T03:29:29.618092",
     "status": "completed"
    },
    "tags": []
   },
   "source": [
    "## Running the model\n",
    "\n",
    "\n",
    "\n",
    "Let's create a model with a 100 x 100 grid, and a tree density of 0.6. Remember, ForestFire takes the arguments *height*, *width*, *density*."
   ]
  },
  {
   "cell_type": "code",
   "execution_count": 5,
   "id": "c0274e09",
   "metadata": {
    "execution": {
     "iopub.execute_input": "2024-10-24T03:29:29.649038Z",
     "iopub.status.busy": "2024-10-24T03:29:29.648522Z",
     "iopub.status.idle": "2024-10-24T03:29:29.806071Z",
     "shell.execute_reply": "2024-10-24T03:29:29.804811Z"
    },
    "papermill": {
     "duration": 0.172527,
     "end_time": "2024-10-24T03:29:29.809459",
     "exception": false,
     "start_time": "2024-10-24T03:29:29.636932",
     "status": "completed"
    },
    "tags": []
   },
   "outputs": [],
   "source": [
    "fire = ForestFire(100, 100, 0.6)"
   ]
  },
  {
   "cell_type": "markdown",
   "id": "49db4b07",
   "metadata": {
    "papermill": {
     "duration": 0.009609,
     "end_time": "2024-10-24T03:29:29.829154",
     "exception": false,
     "start_time": "2024-10-24T03:29:29.819545",
     "status": "completed"
    },
    "tags": []
   },
   "source": [
    "To run the model until it's done (that is, until it sets its **running** property to False) just use the **run_model()** method. This is implemented in the Model parent object, so we didn't need to implement it above."
   ]
  },
  {
   "cell_type": "code",
   "execution_count": 6,
   "id": "a3abf46a",
   "metadata": {
    "execution": {
     "iopub.execute_input": "2024-10-24T03:29:29.851358Z",
     "iopub.status.busy": "2024-10-24T03:29:29.850940Z",
     "iopub.status.idle": "2024-10-24T03:29:36.111299Z",
     "shell.execute_reply": "2024-10-24T03:29:36.110185Z"
    },
    "papermill": {
     "duration": 6.275673,
     "end_time": "2024-10-24T03:29:36.114783",
     "exception": false,
     "start_time": "2024-10-24T03:29:29.839110",
     "status": "completed"
    },
    "tags": []
   },
   "outputs": [],
   "source": [
    "fire.run_model()"
   ]
  },
  {
   "cell_type": "markdown",
   "id": "9ef07b6f",
   "metadata": {
    "papermill": {
     "duration": 0.00981,
     "end_time": "2024-10-24T03:29:36.135063",
     "exception": false,
     "start_time": "2024-10-24T03:29:36.125253",
     "status": "completed"
    },
    "tags": []
   },
   "source": [
    "That's all there is to it!\n",
    "\n",
    "\n",
    "\n",
    "But... so what? This code doesn't include a visualization, after all. \n",
    "\n",
    "\n",
    "\n",
    "Remember the data collector? Now we can put the data it collected into a pandas DataFrame:"
   ]
  },
  {
   "cell_type": "code",
   "execution_count": 7,
   "id": "c4a119a1",
   "metadata": {
    "execution": {
     "iopub.execute_input": "2024-10-24T03:29:36.157060Z",
     "iopub.status.busy": "2024-10-24T03:29:36.156597Z",
     "iopub.status.idle": "2024-10-24T03:29:36.165385Z",
     "shell.execute_reply": "2024-10-24T03:29:36.164010Z"
    },
    "papermill": {
     "duration": 0.022844,
     "end_time": "2024-10-24T03:29:36.168067",
     "exception": false,
     "start_time": "2024-10-24T03:29:36.145223",
     "status": "completed"
    },
    "tags": []
   },
   "outputs": [],
   "source": [
    "df = fire.datacollector.get_model_vars_dataframe()"
   ]
  },
  {
   "cell_type": "code",
   "execution_count": 8,
   "id": "65364054",
   "metadata": {
    "execution": {
     "iopub.execute_input": "2024-10-24T03:29:36.191040Z",
     "iopub.status.busy": "2024-10-24T03:29:36.189661Z",
     "iopub.status.idle": "2024-10-24T03:29:36.218264Z",
     "shell.execute_reply": "2024-10-24T03:29:36.216936Z"
    },
    "papermill": {
     "duration": 0.042986,
     "end_time": "2024-10-24T03:29:36.221193",
     "exception": false,
     "start_time": "2024-10-24T03:29:36.178207",
     "status": "completed"
    },
    "tags": []
   },
   "outputs": [
    {
     "data": {
      "text/html": [
       "<div>\n",
       "<style scoped>\n",
       "    .dataframe tbody tr th:only-of-type {\n",
       "        vertical-align: middle;\n",
       "    }\n",
       "\n",
       "    .dataframe tbody tr th {\n",
       "        vertical-align: top;\n",
       "    }\n",
       "\n",
       "    .dataframe thead th {\n",
       "        text-align: right;\n",
       "    }\n",
       "</style>\n",
       "<table border=\"1\" class=\"dataframe\">\n",
       "  <thead>\n",
       "    <tr style=\"text-align: right;\">\n",
       "      <th></th>\n",
       "      <th>Fine</th>\n",
       "      <th>On Fire</th>\n",
       "      <th>Burned Out</th>\n",
       "    </tr>\n",
       "  </thead>\n",
       "  <tbody>\n",
       "    <tr>\n",
       "      <th>0</th>\n",
       "      <td>5844</td>\n",
       "      <td>63</td>\n",
       "      <td>115</td>\n",
       "    </tr>\n",
       "    <tr>\n",
       "      <th>1</th>\n",
       "      <td>5741</td>\n",
       "      <td>58</td>\n",
       "      <td>223</td>\n",
       "    </tr>\n",
       "    <tr>\n",
       "      <th>2</th>\n",
       "      <td>5651</td>\n",
       "      <td>52</td>\n",
       "      <td>319</td>\n",
       "    </tr>\n",
       "    <tr>\n",
       "      <th>3</th>\n",
       "      <td>5561</td>\n",
       "      <td>48</td>\n",
       "      <td>413</td>\n",
       "    </tr>\n",
       "    <tr>\n",
       "      <th>4</th>\n",
       "      <td>5502</td>\n",
       "      <td>40</td>\n",
       "      <td>480</td>\n",
       "    </tr>\n",
       "    <tr>\n",
       "      <th>...</th>\n",
       "      <td>...</td>\n",
       "      <td>...</td>\n",
       "      <td>...</td>\n",
       "    </tr>\n",
       "    <tr>\n",
       "      <th>92</th>\n",
       "      <td>1206</td>\n",
       "      <td>13</td>\n",
       "      <td>4803</td>\n",
       "    </tr>\n",
       "    <tr>\n",
       "      <th>93</th>\n",
       "      <td>1191</td>\n",
       "      <td>7</td>\n",
       "      <td>4824</td>\n",
       "    </tr>\n",
       "    <tr>\n",
       "      <th>94</th>\n",
       "      <td>1188</td>\n",
       "      <td>1</td>\n",
       "      <td>4833</td>\n",
       "    </tr>\n",
       "    <tr>\n",
       "      <th>95</th>\n",
       "      <td>1184</td>\n",
       "      <td>1</td>\n",
       "      <td>4837</td>\n",
       "    </tr>\n",
       "    <tr>\n",
       "      <th>96</th>\n",
       "      <td>1184</td>\n",
       "      <td>0</td>\n",
       "      <td>4838</td>\n",
       "    </tr>\n",
       "  </tbody>\n",
       "</table>\n",
       "<p>97 rows × 3 columns</p>\n",
       "</div>"
      ],
      "text/plain": [
       "    Fine  On Fire  Burned Out\n",
       "0   5844       63         115\n",
       "1   5741       58         223\n",
       "2   5651       52         319\n",
       "3   5561       48         413\n",
       "4   5502       40         480\n",
       "..   ...      ...         ...\n",
       "92  1206       13        4803\n",
       "93  1191        7        4824\n",
       "94  1188        1        4833\n",
       "95  1184        1        4837\n",
       "96  1184        0        4838\n",
       "\n",
       "[97 rows x 3 columns]"
      ]
     },
     "execution_count": 8,
     "metadata": {},
     "output_type": "execute_result"
    }
   ],
   "source": [
    "df"
   ]
  },
  {
   "cell_type": "markdown",
   "id": "5f2d9fb0",
   "metadata": {
    "papermill": {
     "duration": 0.010074,
     "end_time": "2024-10-24T03:29:36.241455",
     "exception": false,
     "start_time": "2024-10-24T03:29:36.231381",
     "status": "completed"
    },
    "tags": []
   },
   "source": [
    "And chart it, to see the dynamics."
   ]
  },
  {
   "cell_type": "code",
   "execution_count": 9,
   "id": "c6995617",
   "metadata": {
    "execution": {
     "iopub.execute_input": "2024-10-24T03:29:36.264079Z",
     "iopub.status.busy": "2024-10-24T03:29:36.263543Z",
     "iopub.status.idle": "2024-10-24T03:29:36.291936Z",
     "shell.execute_reply": "2024-10-24T03:29:36.290455Z"
    },
    "papermill": {
     "duration": 0.043435,
     "end_time": "2024-10-24T03:29:36.295061",
     "exception": false,
     "start_time": "2024-10-24T03:29:36.251626",
     "status": "completed"
    },
    "tags": []
   },
   "outputs": [
    {
     "data": {
      "text/html": [
       "<div>\n",
       "<style scoped>\n",
       "    .dataframe tbody tr th:only-of-type {\n",
       "        vertical-align: middle;\n",
       "    }\n",
       "\n",
       "    .dataframe tbody tr th {\n",
       "        vertical-align: top;\n",
       "    }\n",
       "\n",
       "    .dataframe thead th {\n",
       "        text-align: right;\n",
       "    }\n",
       "</style>\n",
       "<table border=\"1\" class=\"dataframe\">\n",
       "  <thead>\n",
       "    <tr style=\"text-align: right;\">\n",
       "      <th></th>\n",
       "      <th>index</th>\n",
       "      <th>Categories</th>\n",
       "      <th>Population</th>\n",
       "    </tr>\n",
       "  </thead>\n",
       "  <tbody>\n",
       "    <tr>\n",
       "      <th>0</th>\n",
       "      <td>0</td>\n",
       "      <td>Fine</td>\n",
       "      <td>5844</td>\n",
       "    </tr>\n",
       "    <tr>\n",
       "      <th>1</th>\n",
       "      <td>1</td>\n",
       "      <td>Fine</td>\n",
       "      <td>5741</td>\n",
       "    </tr>\n",
       "    <tr>\n",
       "      <th>2</th>\n",
       "      <td>2</td>\n",
       "      <td>Fine</td>\n",
       "      <td>5651</td>\n",
       "    </tr>\n",
       "    <tr>\n",
       "      <th>3</th>\n",
       "      <td>3</td>\n",
       "      <td>Fine</td>\n",
       "      <td>5561</td>\n",
       "    </tr>\n",
       "    <tr>\n",
       "      <th>4</th>\n",
       "      <td>4</td>\n",
       "      <td>Fine</td>\n",
       "      <td>5502</td>\n",
       "    </tr>\n",
       "    <tr>\n",
       "      <th>...</th>\n",
       "      <td>...</td>\n",
       "      <td>...</td>\n",
       "      <td>...</td>\n",
       "    </tr>\n",
       "    <tr>\n",
       "      <th>286</th>\n",
       "      <td>92</td>\n",
       "      <td>Burned Out</td>\n",
       "      <td>4803</td>\n",
       "    </tr>\n",
       "    <tr>\n",
       "      <th>287</th>\n",
       "      <td>93</td>\n",
       "      <td>Burned Out</td>\n",
       "      <td>4824</td>\n",
       "    </tr>\n",
       "    <tr>\n",
       "      <th>288</th>\n",
       "      <td>94</td>\n",
       "      <td>Burned Out</td>\n",
       "      <td>4833</td>\n",
       "    </tr>\n",
       "    <tr>\n",
       "      <th>289</th>\n",
       "      <td>95</td>\n",
       "      <td>Burned Out</td>\n",
       "      <td>4837</td>\n",
       "    </tr>\n",
       "    <tr>\n",
       "      <th>290</th>\n",
       "      <td>96</td>\n",
       "      <td>Burned Out</td>\n",
       "      <td>4838</td>\n",
       "    </tr>\n",
       "  </tbody>\n",
       "</table>\n",
       "<p>291 rows × 3 columns</p>\n",
       "</div>"
      ],
      "text/plain": [
       "     index  Categories  Population\n",
       "0        0        Fine        5844\n",
       "1        1        Fine        5741\n",
       "2        2        Fine        5651\n",
       "3        3        Fine        5561\n",
       "4        4        Fine        5502\n",
       "..     ...         ...         ...\n",
       "286     92  Burned Out        4803\n",
       "287     93  Burned Out        4824\n",
       "288     94  Burned Out        4833\n",
       "289     95  Burned Out        4837\n",
       "290     96  Burned Out        4838\n",
       "\n",
       "[291 rows x 3 columns]"
      ]
     },
     "execution_count": 9,
     "metadata": {},
     "output_type": "execute_result"
    }
   ],
   "source": [
    "df = df.reset_index()\n",
    "dfmelt = pd.melt(df, id_vars = [\"index\"],\n",
    "                 value_vars=[\"Fine\", \"On Fire\", \"Burned Out\"], \n",
    "                 var_name='Categories', value_name='Population')\n",
    "dfmelt"
   ]
  },
  {
   "cell_type": "code",
   "execution_count": 10,
   "id": "f83502b5",
   "metadata": {
    "execution": {
     "iopub.execute_input": "2024-10-24T03:29:36.319252Z",
     "iopub.status.busy": "2024-10-24T03:29:36.318753Z",
     "iopub.status.idle": "2024-10-24T03:29:38.114456Z",
     "shell.execute_reply": "2024-10-24T03:29:38.113107Z"
    },
    "papermill": {
     "duration": 1.811087,
     "end_time": "2024-10-24T03:29:38.117547",
     "exception": false,
     "start_time": "2024-10-24T03:29:36.306460",
     "status": "completed"
    },
    "tags": []
   },
   "outputs": [
    {
     "data": {
      "image/png": "[encoded data removed]"
     },
     "metadata": {
      "image/png": {
       "height": 480,
       "width": 640
      }
     },
     "output_type": "display_data"
    }
   ],
   "source": [
    "(\n",
    "    ggplot(dfmelt, aes(\"index\", \"Population\", color=\"Categories\")) \n",
    "    + geom_line()\n",
    ")"
   ]
  },
  {
   "cell_type": "markdown",
   "id": "b93652f5",
   "metadata": {
    "papermill": {
     "duration": 0.011497,
     "end_time": "2024-10-24T03:29:38.141031",
     "exception": false,
     "start_time": "2024-10-24T03:29:38.129534",
     "status": "completed"
    },
    "tags": []
   },
   "source": [
    "In this case, the fire burned itself out after about 90 steps, with many trees left unburned. \n",
    "\n",
    "\n",
    "\n",
    "You can try changing the density parameter and rerunning the code above, to see how different densities yield different dynamics. For example:"
   ]
  },
  {
   "cell_type": "code",
   "execution_count": 11,
   "id": "db203814",
   "metadata": {
    "execution": {
     "iopub.execute_input": "2024-10-24T03:29:38.167461Z",
     "iopub.status.busy": "2024-10-24T03:29:38.165997Z",
     "iopub.status.idle": "2024-10-24T03:29:44.319273Z",
     "shell.execute_reply": "2024-10-24T03:29:44.318077Z"
    },
    "papermill": {
     "duration": 6.169517,
     "end_time": "2024-10-24T03:29:44.322140",
     "exception": false,
     "start_time": "2024-10-24T03:29:38.152623",
     "status": "completed"
    },
    "tags": []
   },
   "outputs": [
    {
     "data": {
      "image/png": "[encoded data removed]"
     },
     "metadata": {
      "image/png": {
       "height": 480,
       "width": 640
      }
     },
     "output_type": "display_data"
    }
   ],
   "source": [
    "fire = ForestFire(100, 100, 0.8)\n",
    "fire.run_model()\n",
    "\n",
    "df = fire.datacollector.get_model_vars_dataframe()\n",
    "df = df.reset_index()\n",
    "dfmelt = pd.melt(df, id_vars = [\"index\"],\n",
    "                 value_vars=[\"Fine\", \"On Fire\", \"Burned Out\"], \n",
    "                 var_name='Categories', value_name='Population')\n",
    "\n",
    "(\n",
    "    ggplot(dfmelt, aes(\"index\", \"Population\", color=\"Categories\")) \n",
    "    + geom_line()\n",
    ")"
   ]
  },
  {
   "cell_type": "markdown",
   "id": "a00ee3fd",
   "metadata": {
    "papermill": {
     "duration": 0.012983,
     "end_time": "2024-10-24T03:29:44.349268",
     "exception": false,
     "start_time": "2024-10-24T03:29:44.336285",
     "status": "completed"
    },
    "tags": []
   },
   "source": [
    "... But to really understand how the final outcome varies with density, we can't just tweak the parameter by hand over and over again. We need to do a batch run. \n",
    "\n",
    "## Batch runs\n",
    "\n",
    "Batch runs, also called parameter sweeps, allow us to systemically vary the density parameter, run the model, and check the output. Mesa provides a `batch_run` method which takes a model class, a dictionary of parameters and the range of values they can take and runs the model at each combination of these values. \n",
    "\n",
    "For ease of typing and reading, we'll first create the parameters to vary, and then call `batch_run`."
   ]
  },
  {
   "cell_type": "code",
   "execution_count": 12,
   "id": "1dc0d0e7",
   "metadata": {
    "execution": {
     "iopub.execute_input": "2024-10-24T03:29:44.378603Z",
     "iopub.status.busy": "2024-10-24T03:29:44.378112Z",
     "iopub.status.idle": "2024-10-24T03:29:44.385104Z",
     "shell.execute_reply": "2024-10-24T03:29:44.383705Z"
    },
    "papermill": {
     "duration": 0.024851,
     "end_time": "2024-10-24T03:29:44.387726",
     "exception": false,
     "start_time": "2024-10-24T03:29:44.362875",
     "status": "completed"
    },
    "tags": []
   },
   "outputs": [],
   "source": [
    "params = {\"height\": 50, \"width\": 50,  # Height and width are constant\n",
    "        \"density\": np.linspace(0, 1, 101)[1:]} # Vary density from 0.01 to 1, in 0.01 increments:"
   ]
  },
  {
   "cell_type": "code",
   "execution_count": 13,
   "id": "1abeab46",
   "metadata": {
    "execution": {
     "iopub.execute_input": "2024-10-24T03:29:44.417442Z",
     "iopub.status.busy": "2024-10-24T03:29:44.416272Z",
     "iopub.status.idle": "2024-10-24T03:30:08.775097Z",
     "shell.execute_reply": "2024-10-24T03:30:08.773611Z"
    },
    "papermill": {
     "duration": 24.376854,
     "end_time": "2024-10-24T03:30:08.778078",
     "exception": false,
     "start_time": "2024-10-24T03:29:44.401224",
     "status": "completed"
    },
    "tags": []
   },
   "outputs": [
    {
     "data": {
      "application/vnd.jupyter.widget-view+json": {
       "model_id": "8c03d8f8e108458cab234a78d0bdc2b5",
       "version_major": 2,
       "version_minor": 0
      },
      "text/plain": [
       "  0%|          | 0/100 [00:00<?, ?it/s]"
      ]
     },
     "metadata": {},
     "output_type": "display_data"
    }
   ],
   "source": [
    "# Run the batch runner\n",
    "\n",
    "param_run = batch_run(\n",
    "    ForestFire,\n",
    "    parameters=params,\n",
    ")"
   ]
  },
  {
   "cell_type": "markdown",
   "id": "a8477390",
   "metadata": {
    "papermill": {
     "duration": 0.013722,
     "end_time": "2024-10-24T03:30:08.805923",
     "exception": false,
     "start_time": "2024-10-24T03:30:08.792201",
     "status": "completed"
    },
    "tags": []
   },
   "source": [
    "Now the results of all these runs are given in a list of dictionaries named named `param_run`, and we convert it to a DataFrame."
   ]
  },
  {
   "cell_type": "code",
   "execution_count": 14,
   "id": "20a813a1",
   "metadata": {
    "execution": {
     "iopub.execute_input": "2024-10-24T03:30:08.837007Z",
     "iopub.status.busy": "2024-10-24T03:30:08.835376Z",
     "iopub.status.idle": "2024-10-24T03:30:08.857140Z",
     "shell.execute_reply": "2024-10-24T03:30:08.855674Z"
    },
    "papermill": {
     "duration": 0.04005,
     "end_time": "2024-10-24T03:30:08.860016",
     "exception": false,
     "start_time": "2024-10-24T03:30:08.819966",
     "status": "completed"
    },
    "tags": []
   },
   "outputs": [
    {
     "data": {
      "text/html": [
       "<div>\n",
       "<style scoped>\n",
       "    .dataframe tbody tr th:only-of-type {\n",
       "        vertical-align: middle;\n",
       "    }\n",
       "\n",
       "    .dataframe tbody tr th {\n",
       "        vertical-align: top;\n",
       "    }\n",
       "\n",
       "    .dataframe thead th {\n",
       "        text-align: right;\n",
       "    }\n",
       "</style>\n",
       "<table border=\"1\" class=\"dataframe\">\n",
       "  <thead>\n",
       "    <tr style=\"text-align: right;\">\n",
       "      <th></th>\n",
       "      <th>RunId</th>\n",
       "      <th>iteration</th>\n",
       "      <th>Step</th>\n",
       "      <th>height</th>\n",
       "      <th>width</th>\n",
       "      <th>density</th>\n",
       "      <th>Fine</th>\n",
       "      <th>On Fire</th>\n",
       "      <th>Burned Out</th>\n",
       "    </tr>\n",
       "  </thead>\n",
       "  <tbody>\n",
       "    <tr>\n",
       "      <th>0</th>\n",
       "      <td>0</td>\n",
       "      <td>0</td>\n",
       "      <td>0</td>\n",
       "      <td>50</td>\n",
       "      <td>50</td>\n",
       "      <td>0.01</td>\n",
       "      <td>26</td>\n",
       "      <td>0</td>\n",
       "      <td>0</td>\n",
       "    </tr>\n",
       "    <tr>\n",
       "      <th>1</th>\n",
       "      <td>1</td>\n",
       "      <td>0</td>\n",
       "      <td>0</td>\n",
       "      <td>50</td>\n",
       "      <td>50</td>\n",
       "      <td>0.02</td>\n",
       "      <td>48</td>\n",
       "      <td>0</td>\n",
       "      <td>0</td>\n",
       "    </tr>\n",
       "    <tr>\n",
       "      <th>2</th>\n",
       "      <td>2</td>\n",
       "      <td>0</td>\n",
       "      <td>0</td>\n",
       "      <td>50</td>\n",
       "      <td>50</td>\n",
       "      <td>0.03</td>\n",
       "      <td>70</td>\n",
       "      <td>0</td>\n",
       "      <td>3</td>\n",
       "    </tr>\n",
       "    <tr>\n",
       "      <th>3</th>\n",
       "      <td>3</td>\n",
       "      <td>0</td>\n",
       "      <td>0</td>\n",
       "      <td>50</td>\n",
       "      <td>50</td>\n",
       "      <td>0.04</td>\n",
       "      <td>96</td>\n",
       "      <td>0</td>\n",
       "      <td>0</td>\n",
       "    </tr>\n",
       "    <tr>\n",
       "      <th>4</th>\n",
       "      <td>4</td>\n",
       "      <td>0</td>\n",
       "      <td>0</td>\n",
       "      <td>50</td>\n",
       "      <td>50</td>\n",
       "      <td>0.05</td>\n",
       "      <td>132</td>\n",
       "      <td>0</td>\n",
       "      <td>1</td>\n",
       "    </tr>\n",
       "    <tr>\n",
       "      <th>...</th>\n",
       "      <td>...</td>\n",
       "      <td>...</td>\n",
       "      <td>...</td>\n",
       "      <td>...</td>\n",
       "      <td>...</td>\n",
       "      <td>...</td>\n",
       "      <td>...</td>\n",
       "      <td>...</td>\n",
       "      <td>...</td>\n",
       "    </tr>\n",
       "    <tr>\n",
       "      <th>95</th>\n",
       "      <td>95</td>\n",
       "      <td>0</td>\n",
       "      <td>19</td>\n",
       "      <td>50</td>\n",
       "      <td>50</td>\n",
       "      <td>0.96</td>\n",
       "      <td>0</td>\n",
       "      <td>0</td>\n",
       "      <td>2401</td>\n",
       "    </tr>\n",
       "    <tr>\n",
       "      <th>96</th>\n",
       "      <td>96</td>\n",
       "      <td>0</td>\n",
       "      <td>19</td>\n",
       "      <td>50</td>\n",
       "      <td>50</td>\n",
       "      <td>0.97</td>\n",
       "      <td>0</td>\n",
       "      <td>0</td>\n",
       "      <td>2420</td>\n",
       "    </tr>\n",
       "    <tr>\n",
       "      <th>97</th>\n",
       "      <td>97</td>\n",
       "      <td>0</td>\n",
       "      <td>19</td>\n",
       "      <td>50</td>\n",
       "      <td>50</td>\n",
       "      <td>0.98</td>\n",
       "      <td>0</td>\n",
       "      <td>0</td>\n",
       "      <td>2453</td>\n",
       "    </tr>\n",
       "    <tr>\n",
       "      <th>98</th>\n",
       "      <td>98</td>\n",
       "      <td>0</td>\n",
       "      <td>19</td>\n",
       "      <td>50</td>\n",
       "      <td>50</td>\n",
       "      <td>0.99</td>\n",
       "      <td>0</td>\n",
       "      <td>0</td>\n",
       "      <td>2474</td>\n",
       "    </tr>\n",
       "    <tr>\n",
       "      <th>99</th>\n",
       "      <td>99</td>\n",
       "      <td>0</td>\n",
       "      <td>17</td>\n",
       "      <td>50</td>\n",
       "      <td>50</td>\n",
       "      <td>1.00</td>\n",
       "      <td>0</td>\n",
       "      <td>0</td>\n",
       "      <td>2500</td>\n",
       "    </tr>\n",
       "  </tbody>\n",
       "</table>\n",
       "<p>100 rows × 9 columns</p>\n",
       "</div>"
      ],
      "text/plain": [
       "    RunId  iteration  Step  height  width  density  Fine  On Fire  Burned Out\n",
       "0       0          0     0      50     50     0.01    26        0           0\n",
       "1       1          0     0      50     50     0.02    48        0           0\n",
       "2       2          0     0      50     50     0.03    70        0           3\n",
       "3       3          0     0      50     50     0.04    96        0           0\n",
       "4       4          0     0      50     50     0.05   132        0           1\n",
       "..    ...        ...   ...     ...    ...      ...   ...      ...         ...\n",
       "95     95          0    19      50     50     0.96     0        0        2401\n",
       "96     96          0    19      50     50     0.97     0        0        2420\n",
       "97     97          0    19      50     50     0.98     0        0        2453\n",
       "98     98          0    19      50     50     0.99     0        0        2474\n",
       "99     99          0    17      50     50     1.00     0        0        2500\n",
       "\n",
       "[100 rows x 9 columns]"
      ]
     },
     "execution_count": 14,
     "metadata": {},
     "output_type": "execute_result"
    }
   ],
   "source": [
    "df = pd.DataFrame.from_records(param_run)\n",
    "df"
   ]
  },
  {
   "cell_type": "markdown",
   "id": "752619ca",
   "metadata": {
    "papermill": {
     "duration": 0.014498,
     "end_time": "2024-10-24T03:30:08.888701",
     "exception": false,
     "start_time": "2024-10-24T03:30:08.874203",
     "status": "completed"
    },
    "tags": []
   },
   "source": [
    "We can calculate the burned percentage with a few new columns in our DataFrame."
   ]
  },
  {
   "cell_type": "code",
   "execution_count": 15,
   "id": "4f5add59",
   "metadata": {
    "execution": {
     "iopub.execute_input": "2024-10-24T03:30:08.921447Z",
     "iopub.status.busy": "2024-10-24T03:30:08.920016Z",
     "iopub.status.idle": "2024-10-24T03:30:08.930143Z",
     "shell.execute_reply": "2024-10-24T03:30:08.928861Z"
    },
    "papermill": {
     "duration": 0.029076,
     "end_time": "2024-10-24T03:30:08.933064",
     "exception": false,
     "start_time": "2024-10-24T03:30:08.903988",
     "status": "completed"
    },
    "tags": []
   },
   "outputs": [],
   "source": [
    "df[\"num_agents\"] = df[\"Fine\"] + df[\"On Fire\"] + df[\"Burned Out\"]\n",
    "df[\"burn_pct\"] = df[\"Burned Out\"] / df[\"num_agents\"]"
   ]
  },
  {
   "cell_type": "code",
   "execution_count": 16,
   "id": "8eaf0dde",
   "metadata": {
    "execution": {
     "iopub.execute_input": "2024-10-24T03:30:08.964124Z",
     "iopub.status.busy": "2024-10-24T03:30:08.963581Z",
     "iopub.status.idle": "2024-10-24T03:30:08.985243Z",
     "shell.execute_reply": "2024-10-24T03:30:08.983714Z"
    },
    "papermill": {
     "duration": 0.041043,
     "end_time": "2024-10-24T03:30:08.988438",
     "exception": false,
     "start_time": "2024-10-24T03:30:08.947395",
     "status": "completed"
    },
    "tags": []
   },
   "outputs": [
    {
     "data": {
      "text/html": [
       "<div>\n",
       "<style scoped>\n",
       "    .dataframe tbody tr th:only-of-type {\n",
       "        vertical-align: middle;\n",
       "    }\n",
       "\n",
       "    .dataframe tbody tr th {\n",
       "        vertical-align: top;\n",
       "    }\n",
       "\n",
       "    .dataframe thead th {\n",
       "        text-align: right;\n",
       "    }\n",
       "</style>\n",
       "<table border=\"1\" class=\"dataframe\">\n",
       "  <thead>\n",
       "    <tr style=\"text-align: right;\">\n",
       "      <th></th>\n",
       "      <th>RunId</th>\n",
       "      <th>iteration</th>\n",
       "      <th>Step</th>\n",
       "      <th>height</th>\n",
       "      <th>width</th>\n",
       "      <th>density</th>\n",
       "      <th>Fine</th>\n",
       "      <th>On Fire</th>\n",
       "      <th>Burned Out</th>\n",
       "      <th>num_agents</th>\n",
       "      <th>burn_pct</th>\n",
       "    </tr>\n",
       "  </thead>\n",
       "  <tbody>\n",
       "    <tr>\n",
       "      <th>0</th>\n",
       "      <td>0</td>\n",
       "      <td>0</td>\n",
       "      <td>0</td>\n",
       "      <td>50</td>\n",
       "      <td>50</td>\n",
       "      <td>0.01</td>\n",
       "      <td>26</td>\n",
       "      <td>0</td>\n",
       "      <td>0</td>\n",
       "      <td>26</td>\n",
       "      <td>0.000000</td>\n",
       "    </tr>\n",
       "    <tr>\n",
       "      <th>1</th>\n",
       "      <td>1</td>\n",
       "      <td>0</td>\n",
       "      <td>0</td>\n",
       "      <td>50</td>\n",
       "      <td>50</td>\n",
       "      <td>0.02</td>\n",
       "      <td>48</td>\n",
       "      <td>0</td>\n",
       "      <td>0</td>\n",
       "      <td>48</td>\n",
       "      <td>0.000000</td>\n",
       "    </tr>\n",
       "    <tr>\n",
       "      <th>2</th>\n",
       "      <td>2</td>\n",
       "      <td>0</td>\n",
       "      <td>0</td>\n",
       "      <td>50</td>\n",
       "      <td>50</td>\n",
       "      <td>0.03</td>\n",
       "      <td>70</td>\n",
       "      <td>0</td>\n",
       "      <td>3</td>\n",
       "      <td>73</td>\n",
       "      <td>0.041096</td>\n",
       "    </tr>\n",
       "    <tr>\n",
       "      <th>3</th>\n",
       "      <td>3</td>\n",
       "      <td>0</td>\n",
       "      <td>0</td>\n",
       "      <td>50</td>\n",
       "      <td>50</td>\n",
       "      <td>0.04</td>\n",
       "      <td>96</td>\n",
       "      <td>0</td>\n",
       "      <td>0</td>\n",
       "      <td>96</td>\n",
       "      <td>0.000000</td>\n",
       "    </tr>\n",
       "    <tr>\n",
       "      <th>4</th>\n",
       "      <td>4</td>\n",
       "      <td>0</td>\n",
       "      <td>0</td>\n",
       "      <td>50</td>\n",
       "      <td>50</td>\n",
       "      <td>0.05</td>\n",
       "      <td>132</td>\n",
       "      <td>0</td>\n",
       "      <td>1</td>\n",
       "      <td>133</td>\n",
       "      <td>0.007519</td>\n",
       "    </tr>\n",
       "    <tr>\n",
       "      <th>...</th>\n",
       "      <td>...</td>\n",
       "      <td>...</td>\n",
       "      <td>...</td>\n",
       "      <td>...</td>\n",
       "      <td>...</td>\n",
       "      <td>...</td>\n",
       "      <td>...</td>\n",
       "      <td>...</td>\n",
       "      <td>...</td>\n",
       "      <td>...</td>\n",
       "      <td>...</td>\n",
       "    </tr>\n",
       "    <tr>\n",
       "      <th>95</th>\n",
       "      <td>95</td>\n",
       "      <td>0</td>\n",
       "      <td>19</td>\n",
       "      <td>50</td>\n",
       "      <td>50</td>\n",
       "      <td>0.96</td>\n",
       "      <td>0</td>\n",
       "      <td>0</td>\n",
       "      <td>2401</td>\n",
       "      <td>2401</td>\n",
       "      <td>1.000000</td>\n",
       "    </tr>\n",
       "    <tr>\n",
       "      <th>96</th>\n",
       "      <td>96</td>\n",
       "      <td>0</td>\n",
       "      <td>19</td>\n",
       "      <td>50</td>\n",
       "      <td>50</td>\n",
       "      <td>0.97</td>\n",
       "      <td>0</td>\n",
       "      <td>0</td>\n",
       "      <td>2420</td>\n",
       "      <td>2420</td>\n",
       "      <td>1.000000</td>\n",
       "    </tr>\n",
       "    <tr>\n",
       "      <th>97</th>\n",
       "      <td>97</td>\n",
       "      <td>0</td>\n",
       "      <td>19</td>\n",
       "      <td>50</td>\n",
       "      <td>50</td>\n",
       "      <td>0.98</td>\n",
       "      <td>0</td>\n",
       "      <td>0</td>\n",
       "      <td>2453</td>\n",
       "      <td>2453</td>\n",
       "      <td>1.000000</td>\n",
       "    </tr>\n",
       "    <tr>\n",
       "      <th>98</th>\n",
       "      <td>98</td>\n",
       "      <td>0</td>\n",
       "      <td>19</td>\n",
       "      <td>50</td>\n",
       "      <td>50</td>\n",
       "      <td>0.99</td>\n",
       "      <td>0</td>\n",
       "      <td>0</td>\n",
       "      <td>2474</td>\n",
       "      <td>2474</td>\n",
       "      <td>1.000000</td>\n",
       "    </tr>\n",
       "    <tr>\n",
       "      <th>99</th>\n",
       "      <td>99</td>\n",
       "      <td>0</td>\n",
       "      <td>17</td>\n",
       "      <td>50</td>\n",
       "      <td>50</td>\n",
       "      <td>1.00</td>\n",
       "      <td>0</td>\n",
       "      <td>0</td>\n",
       "      <td>2500</td>\n",
       "      <td>2500</td>\n",
       "      <td>1.000000</td>\n",
       "    </tr>\n",
       "  </tbody>\n",
       "</table>\n",
       "<p>100 rows × 11 columns</p>\n",
       "</div>"
      ],
      "text/plain": [
       "    RunId  iteration  Step  height  width  density  Fine  On Fire  Burned Out  \\\n",
       "0       0          0     0      50     50     0.01    26        0           0   \n",
       "1       1          0     0      50     50     0.02    48        0           0   \n",
       "2       2          0     0      50     50     0.03    70        0           3   \n",
       "3       3          0     0      50     50     0.04    96        0           0   \n",
       "4       4          0     0      50     50     0.05   132        0           1   \n",
       "..    ...        ...   ...     ...    ...      ...   ...      ...         ...   \n",
       "95     95          0    19      50     50     0.96     0        0        2401   \n",
       "96     96          0    19      50     50     0.97     0        0        2420   \n",
       "97     97          0    19      50     50     0.98     0        0        2453   \n",
       "98     98          0    19      50     50     0.99     0        0        2474   \n",
       "99     99          0    17      50     50     1.00     0        0        2500   \n",
       "\n",
       "    num_agents  burn_pct  \n",
       "0           26  0.000000  \n",
       "1           48  0.000000  \n",
       "2           73  0.041096  \n",
       "3           96  0.000000  \n",
       "4          133  0.007519  \n",
       "..         ...       ...  \n",
       "95        2401  1.000000  \n",
       "96        2420  1.000000  \n",
       "97        2453  1.000000  \n",
       "98        2474  1.000000  \n",
       "99        2500  1.000000  \n",
       "\n",
       "[100 rows x 11 columns]"
      ]
     },
     "execution_count": 16,
     "metadata": {},
     "output_type": "execute_result"
    }
   ],
   "source": [
    "df"
   ]
  },
  {
   "cell_type": "markdown",
   "id": "727933a6",
   "metadata": {
    "papermill": {
     "duration": 0.015166,
     "end_time": "2024-10-24T03:30:09.019897",
     "exception": false,
     "start_time": "2024-10-24T03:30:09.004731",
     "status": "completed"
    },
    "tags": []
   },
   "source": [
    "As you can see, each row here is a run of the model, identified by its parameter values (and given a unique index by the Run column). To view how the BurnedOut fraction varies with density, we can easily just plot them:"
   ]
  },
  {
   "cell_type": "code",
   "execution_count": 17,
   "id": "f37abebc",
   "metadata": {
    "execution": {
     "iopub.execute_input": "2024-10-24T03:30:09.051168Z",
     "iopub.status.busy": "2024-10-24T03:30:09.050644Z",
     "iopub.status.idle": "2024-10-24T03:30:09.483838Z",
     "shell.execute_reply": "2024-10-24T03:30:09.482526Z"
    },
    "papermill": {
     "duration": 0.452533,
     "end_time": "2024-10-24T03:30:09.486936",
     "exception": false,
     "start_time": "2024-10-24T03:30:09.034403",
     "status": "completed"
    },
    "tags": []
   },
   "outputs": [
    {
     "data": {
      "image/png": "[encoded data removed]"
     },
     "metadata": {
      "image/png": {
       "height": 480,
       "width": 640
      }
     },
     "output_type": "display_data"
    }
   ],
   "source": [
    "(\n",
    "    ggplot(df, aes(\"density\", \"burn_pct\")) \n",
    "    + geom_point()\n",
    ")"
   ]
  },
  {
   "cell_type": "markdown",
   "id": "690a6c8d",
   "metadata": {
    "papermill": {
     "duration": 0.015548,
     "end_time": "2024-10-24T03:30:09.519127",
     "exception": false,
     "start_time": "2024-10-24T03:30:09.503579",
     "status": "completed"
    },
    "tags": []
   },
   "source": [
    "And we see the very clear emergence of a critical value around 0.55, where the model quickly shifts from almost no trees being burned, to almost all of them."
   ]
  },
  {
   "cell_type": "code",
   "execution_count": null,
   "id": "e63868b2",
   "metadata": {
    "papermill": {
     "duration": 0.015115,
     "end_time": "2024-10-24T03:30:09.550918",
     "exception": false,
     "start_time": "2024-10-24T03:30:09.535803",
     "status": "completed"
    },
    "tags": []
   },
   "outputs": [],
   "source": []
  }
 ],
 "metadata": {
  "anaconda-cloud": {},
  "kaggle": {
   "accelerator": "none",
   "dataSources": [],
   "dockerImageVersionId": 30786,
   "isGpuEnabled": false,
   "isInternetEnabled": true,
   "language": "python",
   "sourceType": "notebook"
  },
  "kernelspec": {
   "display_name": "Python 3",
   "language": "python",
   "name": "python3"
  },
  "language_info": {
   "codemirror_mode": {
    "name": "ipython",
    "version": 3
   },
   "file_extension": ".py",
   "mimetype": "text/x-python",
   "name": "python",
   "nbconvert_exporter": "python",
   "pygments_lexer": "ipython3",
   "version": "3.10.14"
  },
  "papermill": {
   "default_parameters": {},
   "duration": 72.642987,
   "end_time": "2024-10-24T03:30:12.190184",
   "environment_variables": {},
   "exception": null,
   "input_path": "__notebook__.ipynb",
   "output_path": "__notebook__.ipynb",
   "parameters": {},
   "start_time": "2024-10-24T03:28:59.547197",
   "version": "2.6.0"
  },
  "widgets": {
   "application/vnd.jupyter.widget-state+json": {
    "state": {
     "01a08e78095643669dbc8c6563a9f6a5": {
      "model_module": "@jupyter-widgets/controls",
      "model_module_version": "1.5.0",
      "model_name": "HTMLModel",
      "state": {
       "_dom_classes": [],
       "_model_module": "@jupyter-widgets/controls",
       "_model_module_version": "1.5.0",
       "_model_name": "HTMLModel",
       "_view_count": null,
       "_view_module": "@jupyter-widgets/controls",
       "_view_module_version": "1.5.0",
       "_view_name": "HTMLView",
       "description": "",
       "description_tooltip": null,
       "layout": "IPY_MODEL_56c9feec442d46dc876da1075226a3ce",
       "placeholder": "​",
       "style": "IPY_MODEL_66a06f73cfcd4cffb74872b1e029ea40",
       "value": "100%"
      }
     },
     "203c5596cea0442f980e082f0165b289": {
      "model_module": "@jupyter-widgets/controls",
      "model_module_version": "1.5.0",
      "model_name": "HTMLModel",
      "state": {
       "_dom_classes": [],
       "_model_module": "@jupyter-widgets/controls",
       "_model_module_version": "1.5.0",
       "_model_name": "HTMLModel",
       "_view_count": null,
       "_view_module": "@jupyter-widgets/controls",
       "_view_module_version": "1.5.0",
       "_view_name": "HTMLView",
       "description": "",
       "description_tooltip": null,
       "layout": "IPY_MODEL_fca8755a59d2461a89c47ab7dfe46215",
       "placeholder": "​",
       "style": "IPY_MODEL_4d82394efaea47d4be086334d8f0ffd7",
       "value": " 100/100 [00:24&lt;00:00,  2.34it/s]"
      }
     },
     "4d82394efaea47d4be086334d8f0ffd7": {
      "model_module": "@jupyter-widgets/controls",
      "model_module_version": "1.5.0",
      "model_name": "DescriptionStyleModel",
      "state": {
       "_model_module": "@jupyter-widgets/controls",
       "_model_module_version": "1.5.0",
       "_model_name": "DescriptionStyleModel",
       "_view_count": null,
       "_view_module": "@jupyter-widgets/base",
       "_view_module_version": "1.2.0",
       "_view_name": "StyleView",
       "description_width": ""
      }
     },
     "56c9feec442d46dc876da1075226a3ce": {
      "model_module": "@jupyter-widgets/base",
      "model_module_version": "1.2.0",
      "model_name": "LayoutModel",
      "state": {
       "_model_module": "@jupyter-widgets/base",
       "_model_module_version": "1.2.0",
       "_model_name": "LayoutModel",
       "_view_count": null,
       "_view_module": "@jupyter-widgets/base",
       "_view_module_version": "1.2.0",
       "_view_name": "LayoutView",
       "align_content": null,
       "align_items": null,
       "align_self": null,
       "border": null,
       "bottom": null,
       "display": null,
       "flex": null,
       "flex_flow": null,
       "grid_area": null,
       "grid_auto_columns": null,
       "grid_auto_flow": null,
       "grid_auto_rows": null,
       "grid_column": null,
       "grid_gap": null,
       "grid_row": null,
       "grid_template_areas": null,
       "grid_template_columns": null,
       "grid_template_rows": null,
       "height": null,
       "justify_content": null,
       "justify_items": null,
       "left": null,
       "margin": null,
       "max_height": null,
       "max_width": null,
       "min_height": null,
       "min_width": null,
       "object_fit": null,
       "object_position": null,
       "order": null,
       "overflow": null,
       "overflow_x": null,
       "overflow_y": null,
       "padding": null,
       "right": null,
       "top": null,
       "visibility": null,
       "width": null
      }
     },
     "66a06f73cfcd4cffb74872b1e029ea40": {
      "model_module": "@jupyter-widgets/controls",
      "model_module_version": "1.5.0",
      "model_name": "DescriptionStyleModel",
      "state": {
       "_model_module": "@jupyter-widgets/controls",
       "_model_module_version": "1.5.0",
       "_model_name": "DescriptionStyleModel",
       "_view_count": null,
       "_view_module": "@jupyter-widgets/base",
       "_view_module_version": "1.2.0",
       "_view_name": "StyleView",
       "description_width": ""
      }
     },
     "8c03d8f8e108458cab234a78d0bdc2b5": {
      "model_module": "@jupyter-widgets/controls",
      "model_module_version": "1.5.0",
      "model_name": "HBoxModel",
      "state": {
       "_dom_classes": [],
       "_model_module": "@jupyter-widgets/controls",
       "_model_module_version": "1.5.0",
       "_model_name": "HBoxModel",
       "_view_count": null,
       "_view_module": "@jupyter-widgets/controls",
       "_view_module_version": "1.5.0",
       "_view_name": "HBoxView",
       "box_style": "",
       "children": [
        "IPY_MODEL_01a08e78095643669dbc8c6563a9f6a5",
        "IPY_MODEL_fa260964247f401da63dd8875dfee2f3",
        "IPY_MODEL_203c5596cea0442f980e082f0165b289"
       ],
       "layout": "IPY_MODEL_f912829e538840bf8ae9ccd2f28d4af2"
      }
     },
     "e444dfa2041a4cf9b8309b78205c41de": {
      "model_module": "@jupyter-widgets/base",
      "model_module_version": "1.2.0",
      "model_name": "LayoutModel",
      "state": {
       "_model_module": "@jupyter-widgets/base",
       "_model_module_version": "1.2.0",
       "_model_name": "LayoutModel",
       "_view_count": null,
       "_view_module": "@jupyter-widgets/base",
       "_view_module_version": "1.2.0",
       "_view_name": "LayoutView",
       "align_content": null,
       "align_items": null,
       "align_self": null,
       "border": null,
       "bottom": null,
       "display": null,
       "flex": null,
       "flex_flow": null,
       "grid_area": null,
       "grid_auto_columns": null,
       "grid_auto_flow": null,
       "grid_auto_rows": null,
       "grid_column": null,
       "grid_gap": null,
       "grid_row": null,
       "grid_template_areas": null,
       "grid_template_columns": null,
       "grid_template_rows": null,
       "height": null,
       "justify_content": null,
       "justify_items": null,
       "left": null,
       "margin": null,
       "max_height": null,
       "max_width": null,
       "min_height": null,
       "min_width": null,
       "object_fit": null,
       "object_position": null,
       "order": null,
       "overflow": null,
       "overflow_x": null,
       "overflow_y": null,
       "padding": null,
       "right": null,
       "top": null,
       "visibility": null,
       "width": null
      }
     },
     "f912829e538840bf8ae9ccd2f28d4af2": {
      "model_module": "@jupyter-widgets/base",
      "model_module_version": "1.2.0",
      "model_name": "LayoutModel",
      "state": {
       "_model_module": "@jupyter-widgets/base",
       "_model_module_version": "1.2.0",
       "_model_name": "LayoutModel",
       "_view_count": null,
       "_view_module": "@jupyter-widgets/base",
       "_view_module_version": "1.2.0",
       "_view_name": "LayoutView",
       "align_content": null,
       "align_items": null,
       "align_self": null,
       "border": null,
       "bottom": null,
       "display": null,
       "flex": null,
       "flex_flow": null,
       "grid_area": null,
       "grid_auto_columns": null,
       "grid_auto_flow": null,
       "grid_auto_rows": null,
       "grid_column": null,
       "grid_gap": null,
       "grid_row": null,
       "grid_template_areas": null,
       "grid_template_columns": null,
       "grid_template_rows": null,
       "height": null,
       "justify_content": null,
       "justify_items": null,
       "left": null,
       "margin": null,
       "max_height": null,
       "max_width": null,
       "min_height": null,
       "min_width": null,
       "object_fit": null,
       "object_position": null,
       "order": null,
       "overflow": null,
       "overflow_x": null,
       "overflow_y": null,
       "padding": null,
       "right": null,
       "top": null,
       "visibility": null,
       "width": null
      }
     },
     "fa260964247f401da63dd8875dfee2f3": {
      "model_module": "@jupyter-widgets/controls",
      "model_module_version": "1.5.0",
      "model_name": "FloatProgressModel",
      "state": {
       "_dom_classes": [],
       "_model_module": "@jupyter-widgets/controls",
       "_model_module_version": "1.5.0",
       "_model_name": "FloatProgressModel",
       "_view_count": null,
       "_view_module": "@jupyter-widgets/controls",
       "_view_module_version": "1.5.0",
       "_view_name": "ProgressView",
       "bar_style": "success",
       "description": "",
       "description_tooltip": null,
       "layout": "IPY_MODEL_e444dfa2041a4cf9b8309b78205c41de",
       "max": 100.0,
       "min": 0.0,
       "orientation": "horizontal",
       "style": "IPY_MODEL_fb6ca2f7563943aa9327096bd66334e3",
       "value": 100.0
      }
     },
     "fb6ca2f7563943aa9327096bd66334e3": {
      "model_module": "@jupyter-widgets/controls",
      "model_module_version": "1.5.0",
      "model_name": "ProgressStyleModel",
      "state": {
       "_model_module": "@jupyter-widgets/controls",
       "_model_module_version": "1.5.0",
       "_model_name": "ProgressStyleModel",
       "_view_count": null,
       "_view_module": "@jupyter-widgets/base",
       "_view_module_version": "1.2.0",
       "_view_name": "StyleView",
       "bar_color": null,
       "description_width": ""
      }
     },
     "fca8755a59d2461a89c47ab7dfe46215": {
      "model_module": "@jupyter-widgets/base",
      "model_module_version": "1.2.0",
      "model_name": "LayoutModel",
      "state": {
       "_model_module": "@jupyter-widgets/base",
       "_model_module_version": "1.2.0",
       "_model_name": "LayoutModel",
       "_view_count": null,
       "_view_module": "@jupyter-widgets/base",
       "_view_module_version": "1.2.0",
       "_view_name": "LayoutView",
       "align_content": null,
       "align_items": null,
       "align_self": null,
       "border": null,
       "bottom": null,
       "display": null,
       "flex": null,
       "flex_flow": null,
       "grid_area": null,
       "grid_auto_columns": null,
       "grid_auto_flow": null,
       "grid_auto_rows": null,
       "grid_column": null,
       "grid_gap": null,
       "grid_row": null,
       "grid_template_areas": null,
       "grid_template_columns": null,
       "grid_template_rows": null,
       "height": null,
       "justify_content": null,
       "justify_items": null,
       "left": null,
       "margin": null,
       "max_height": null,
       "max_width": null,
       "min_height": null,
       "min_width": null,
       "object_fit": null,
       "object_position": null,
       "order": null,
       "overflow": null,
       "overflow_x": null,
       "overflow_y": null,
       "padding": null,
       "right": null,
       "top": null,
       "visibility": null,
       "width": null
      }
     }
    },
    "version_major": 2,
    "version_minor": 0
   }
  }
 },
 "nbformat": 4,
 "nbformat_minor": 5
}
